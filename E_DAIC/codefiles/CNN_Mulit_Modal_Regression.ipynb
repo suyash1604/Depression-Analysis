{
 "cells": [
  {
   "cell_type": "code",
   "execution_count": 1,
   "metadata": {},
   "outputs": [
    {
     "name": "stderr",
     "output_type": "stream",
     "text": [
      "2023-02-02 20:56:56.415624: I tensorflow/core/platform/cpu_feature_guard.cc:193] This TensorFlow binary is optimized with oneAPI Deep Neural Network Library (oneDNN) to use the following CPU instructions in performance-critical operations:  AVX2 FMA\n",
      "To enable them in other operations, rebuild TensorFlow with the appropriate compiler flags.\n"
     ]
    }
   ],
   "source": [
    "import pandas as pd\n",
    "import numpy as np\n",
    "import tensorflow as tf\n",
    "from tensorflow import keras\n",
    "import sklearn"
   ]
  },
  {
   "cell_type": "code",
   "execution_count": 2,
   "metadata": {},
   "outputs": [],
   "source": [
    "from tensorflow.keras import regularizers\n",
    "from tensorflow.keras.models import Model\n",
    "from tensorflow.keras.layers import LSTM, Conv1D, MaxPooling1D\n",
    "from tensorflow.keras.layers import Dropout, BatchNormalization, Flatten, Dense, Input, concatenate"
   ]
  },
  {
   "attachments": {},
   "cell_type": "markdown",
   "metadata": {},
   "source": [
    "# Data Handling"
   ]
  },
  {
   "cell_type": "code",
   "execution_count": 3,
   "metadata": {},
   "outputs": [],
   "source": [
    "y_train_bovw = np.loadtxt('/Users/suyashsingh/Documents/Projects/Depression_Analysis/data/BoVW/Regression/y_train_BoVW_openFace_210_Pose_Gaze_AUs.gz', delimiter=',')\n",
    "y_dev_bovw = np.loadtxt('/Users/suyashsingh/Documents/Projects/Depression_Analysis/data/BoVW/Regression/y_dev_BoVW_openFace_210_Pose_Gaze_AUs.gz', delimiter=',')\n",
    "\n",
    "y_train_boaw = np.loadtxt('/Users/suyashsingh/Documents/Projects/Depression_Analysis/data/BoAW/Regression/y_train_BoAW_openSMILE_230_MFCC.gz', delimiter=',')\n",
    "y_dev_boaw = np.loadtxt('/Users/suyashsingh/Documents/Projects/Depression_Analysis/data/BoAW/Regression/y_dev_BoAW_openSMILE_230_MFCC.gz', delimiter=',')"
   ]
  },
  {
   "cell_type": "code",
   "execution_count": 4,
   "metadata": {},
   "outputs": [
    {
     "name": "stdout",
     "output_type": "stream",
     "text": [
      "(163, 36277, 100)\n",
      "(56, 36277, 100)\n"
     ]
    }
   ],
   "source": [
    "# BoVW_openFace_210_Pose_Gaze_AUs\n",
    "# Data Handling\n",
    "\n",
    "x_train_bovw = np.loadtxt('/Users/suyashsingh/Documents/Projects/Depression_Analysis/data/BoVW/x_train_BoVW_openFace_210_Pose_Gaze_AUs.gz', delimiter=',').reshape(163, 19663, 100)\n",
    "x_dev_bovw = np.loadtxt('/Users/suyashsingh/Documents/Projects/Depression_Analysis/data/BoVW/x_dev_BoVW_openFace_210_Pose_Gaze_AUs.gz', delimiter=',').reshape(56, 36277, 100)\n",
    "\n",
    "x_train_bovw_input_shape = x_train_bovw.shape\n",
    "x_dev_bovw_input_shape = x_dev_bovw.shape\n",
    "\n",
    "zeros = np.zeros((163, x_dev_bovw_input_shape[1]-x_train_bovw_input_shape[1], x_train_bovw_input_shape[2]))\n",
    "\n",
    "# adding rows with value 0 to make the dimensions of x_train_bovw and x_dev_bovw equal\n",
    "x_train_bovw = np.concatenate((x_train_bovw, zeros), axis=1)\n",
    "\n",
    "print(x_train_bovw.shape)\n",
    "print(x_dev_bovw.shape)"
   ]
  },
  {
   "cell_type": "code",
   "execution_count": 5,
   "metadata": {},
   "outputs": [
    {
     "name": "stdout",
     "output_type": "stream",
     "text": [
      "(163, 29679, 100)\n",
      "(56, 29679, 100)\n"
     ]
    }
   ],
   "source": [
    "# BoAW_openSMILE_230_MFCC\n",
    "# Data Handling\n",
    "x_train_boaw = np.loadtxt('/Users/suyashsingh/Documents/Projects/Depression_Analysis/data/BoAW/x_train_BoAW_openSMILE_230_MFCC.gz', delimiter=',').reshape(163, 19579, 100)\n",
    "x_dev_boaw = np.loadtxt('/Users/suyashsingh/Documents/Projects/Depression_Analysis/data/BoAW/x_dev_BoAW_openSMILE_230_MFCC.gz', delimiter=',').reshape(56, 29679, 100)\n",
    "\n",
    "x_train_boaw_input_shape = x_train_boaw.shape\n",
    "x_dev_boaw_input_shape = x_dev_boaw.shape\n",
    "\n",
    "zeros = np.zeros((163, x_dev_boaw_input_shape[1]-x_train_boaw_input_shape[1], x_train_boaw_input_shape[2]))\n",
    "\n",
    "# adding rows with value 0 to make the dimensions of x_train_boaw and x_dev_boaw equal\n",
    "x_train_boaw = np.concatenate((x_train_boaw, zeros), axis=1)\n",
    "\n",
    "print(x_train_boaw.shape)\n",
    "print(x_dev_boaw.shape)"
   ]
  },
  {
   "cell_type": "code",
   "execution_count": 6,
   "metadata": {},
   "outputs": [
    {
     "name": "stdout",
     "output_type": "stream",
     "text": [
      "(163, 36277, 100)\n",
      "(56, 36277, 100)\n"
     ]
    }
   ],
   "source": [
    "x_train_bovw_input_shape = x_train_bovw.shape\n",
    "x_train_boaw_input_shape = x_train_boaw.shape\n",
    "\n",
    "train_zeros = np.zeros((163, x_train_bovw_input_shape[1]-x_train_boaw_input_shape[1], x_train_bovw_input_shape[2]))\n",
    "dev_zeros = np.zeros((56, x_dev_bovw_input_shape[1]-x_dev_boaw_input_shape[1], x_dev_bovw_input_shape[2]))\n",
    "\n",
    "\n",
    "x_train_boaw = np.concatenate((x_train_boaw, train_zeros), axis=1)\n",
    "x_dev_boaw = np.concatenate((x_dev_boaw, dev_zeros), axis=1)\n",
    "\n",
    "print(x_train_boaw.shape)\n",
    "print(x_dev_boaw.shape)"
   ]
  },
  {
   "attachments": {},
   "cell_type": "markdown",
   "metadata": {},
   "source": [
    "# CNN"
   ]
  },
  {
   "cell_type": "code",
   "execution_count": 7,
   "metadata": {},
   "outputs": [
    {
     "name": "stderr",
     "output_type": "stream",
     "text": [
      "2023-02-02 21:01:39.986993: I tensorflow/core/platform/cpu_feature_guard.cc:193] This TensorFlow binary is optimized with oneAPI Deep Neural Network Library (oneDNN) to use the following CPU instructions in performance-critical operations:  AVX2 FMA\n",
      "To enable them in other operations, rebuild TensorFlow with the appropriate compiler flags.\n"
     ]
    },
    {
     "name": "stdout",
     "output_type": "stream",
     "text": [
      "Model: \"model\"\n",
      "_________________________________________________________________\n",
      " Layer (type)                Output Shape              Param #   \n",
      "=================================================================\n",
      " input_1 (InputLayer)        [(None, 36277, 100)]      0         \n",
      "                                                                 \n",
      " conv1d (Conv1D)             (None, 36277, 100)        30100     \n",
      "                                                                 \n",
      " batch_normalization (BatchN  (None, 36277, 100)       400       \n",
      " ormalization)                                                   \n",
      "                                                                 \n",
      " dropout (Dropout)           (None, 36277, 100)        0         \n",
      "                                                                 \n",
      " max_pooling1d (MaxPooling1D  (None, 7256, 100)        0         \n",
      " )                                                               \n",
      "                                                                 \n",
      " conv1d_1 (Conv1D)           (None, 7256, 64)          19264     \n",
      "                                                                 \n",
      " batch_normalization_1 (Batc  (None, 7256, 64)         256       \n",
      " hNormalization)                                                 \n",
      "                                                                 \n",
      " dropout_1 (Dropout)         (None, 7256, 64)          0         \n",
      "                                                                 \n",
      " max_pooling1d_1 (MaxPooling  (None, 1452, 64)         0         \n",
      " 1D)                                                             \n",
      "                                                                 \n",
      " conv1d_2 (Conv1D)           (None, 1452, 32)          6176      \n",
      "                                                                 \n",
      " batch_normalization_2 (Batc  (None, 1452, 32)         128       \n",
      " hNormalization)                                                 \n",
      "                                                                 \n",
      " dropout_2 (Dropout)         (None, 1452, 32)          0         \n",
      "                                                                 \n",
      " max_pooling1d_2 (MaxPooling  (None, 291, 32)          0         \n",
      " 1D)                                                             \n",
      "                                                                 \n",
      " conv1d_3 (Conv1D)           (None, 291, 16)           1552      \n",
      "                                                                 \n",
      " batch_normalization_3 (Batc  (None, 291, 16)          64        \n",
      " hNormalization)                                                 \n",
      "                                                                 \n",
      " dropout_3 (Dropout)         (None, 291, 16)           0         \n",
      "                                                                 \n",
      " max_pooling1d_3 (MaxPooling  (None, 59, 16)           0         \n",
      " 1D)                                                             \n",
      "                                                                 \n",
      "=================================================================\n",
      "Total params: 57,940\n",
      "Trainable params: 57,516\n",
      "Non-trainable params: 424\n",
      "_________________________________________________________________\n"
     ]
    }
   ],
   "source": [
    "# BoVW OpenFace\n",
    "inputs_openFace = Input(shape=x_train_bovw.shape[1:])\n",
    "c1 = Conv1D(100, (3), padding='same', activation='relu')(inputs_openFace)\n",
    "bn1 = BatchNormalization()(c1)\n",
    "d1 = Dropout(rate=0.8)(bn1)\n",
    "mp1 = MaxPooling1D(pool_size=(5), padding='same')(d1)\n",
    "\n",
    "c2 = Conv1D(64, (3), padding='same', activation='relu')(mp1)\n",
    "bn2 = BatchNormalization()(c2)\n",
    "d2 = Dropout(rate=0.5)(bn2)\n",
    "mp2 = MaxPooling1D(pool_size=(5), padding='same')(d2)\n",
    "\n",
    "c3 = Conv1D(32, (3), padding='same', activation='relu')(mp2)\n",
    "bn3 = BatchNormalization()(c3)\n",
    "d3 = Dropout(rate=0.5)(bn3)\n",
    "mp3 = MaxPooling1D(pool_size=(5), padding='same')(d3)\n",
    "\n",
    "c4 = Conv1D(16, (3), padding='same', activation='relu')(mp3)\n",
    "bn4 = BatchNormalization()(c4)\n",
    "d4 = Dropout(rate=0.5)(bn4)\n",
    "flat_openFace = MaxPooling1D(pool_size=(5), padding='same')(d4)\n",
    "\n",
    "\n",
    "model_openFace = Model(inputs=inputs_openFace, outputs=flat_openFace)\n",
    "model_openFace.summary()"
   ]
  },
  {
   "cell_type": "code",
   "execution_count": 8,
   "metadata": {},
   "outputs": [
    {
     "name": "stdout",
     "output_type": "stream",
     "text": [
      "Model: \"model_1\"\n",
      "_________________________________________________________________\n",
      " Layer (type)                Output Shape              Param #   \n",
      "=================================================================\n",
      " input_2 (InputLayer)        [(None, 36277, 100)]      0         \n",
      "                                                                 \n",
      " conv1d_4 (Conv1D)           (None, 36277, 100)        30100     \n",
      "                                                                 \n",
      " batch_normalization_4 (Batc  (None, 36277, 100)       400       \n",
      " hNormalization)                                                 \n",
      "                                                                 \n",
      " dropout_4 (Dropout)         (None, 36277, 100)        0         \n",
      "                                                                 \n",
      " max_pooling1d_4 (MaxPooling  (None, 7256, 100)        0         \n",
      " 1D)                                                             \n",
      "                                                                 \n",
      " conv1d_5 (Conv1D)           (None, 7256, 64)          19264     \n",
      "                                                                 \n",
      " batch_normalization_5 (Batc  (None, 7256, 64)         256       \n",
      " hNormalization)                                                 \n",
      "                                                                 \n",
      " dropout_5 (Dropout)         (None, 7256, 64)          0         \n",
      "                                                                 \n",
      " max_pooling1d_5 (MaxPooling  (None, 1452, 64)         0         \n",
      " 1D)                                                             \n",
      "                                                                 \n",
      " conv1d_6 (Conv1D)           (None, 1452, 32)          6176      \n",
      "                                                                 \n",
      " batch_normalization_6 (Batc  (None, 1452, 32)         128       \n",
      " hNormalization)                                                 \n",
      "                                                                 \n",
      " dropout_6 (Dropout)         (None, 1452, 32)          0         \n",
      "                                                                 \n",
      " max_pooling1d_6 (MaxPooling  (None, 291, 32)          0         \n",
      " 1D)                                                             \n",
      "                                                                 \n",
      " conv1d_7 (Conv1D)           (None, 291, 16)           1552      \n",
      "                                                                 \n",
      " batch_normalization_7 (Batc  (None, 291, 16)          64        \n",
      " hNormalization)                                                 \n",
      "                                                                 \n",
      " dropout_7 (Dropout)         (None, 291, 16)           0         \n",
      "                                                                 \n",
      " max_pooling1d_7 (MaxPooling  (None, 59, 16)           0         \n",
      " 1D)                                                             \n",
      "                                                                 \n",
      "=================================================================\n",
      "Total params: 57,940\n",
      "Trainable params: 57,516\n",
      "Non-trainable params: 424\n",
      "_________________________________________________________________\n"
     ]
    }
   ],
   "source": [
    "# BoVW OpenSmile\n",
    "inputs_openSmile = Input(shape=x_train_bovw.shape[1:])\n",
    "c5 = Conv1D(100, (3), padding='same', activation='relu')(inputs_openSmile)\n",
    "bn5 = BatchNormalization()(c5)\n",
    "d5 = Dropout(rate=0.8)(bn5)\n",
    "mp5 = MaxPooling1D(pool_size=(5), padding='same')(d5)\n",
    "\n",
    "c6 = Conv1D(64, (3), padding='same', activation='relu')(mp5)\n",
    "bn6 = BatchNormalization()(c6)\n",
    "d6 = Dropout(rate=0.5)(bn6)\n",
    "mp6 = MaxPooling1D(pool_size=(5), padding='same')(d6)\n",
    "\n",
    "c7 = Conv1D(32, (3), padding='same', activation='relu')(mp6)\n",
    "bn7 = BatchNormalization()(c7)\n",
    "d7 = Dropout(rate=0.5)(bn7)\n",
    "mp7 = MaxPooling1D(pool_size=(5), padding='same')(d7)\n",
    "\n",
    "c8 = Conv1D(16, (3), padding='same', activation='relu')(mp7)\n",
    "bn8 = BatchNormalization()(c8)\n",
    "d8 = Dropout(rate=0.5)(bn8)\n",
    "flat_openSmile = MaxPooling1D(pool_size=(5), padding='same')(d8)\n",
    "\n",
    "model_openSmile = Model(inputs=inputs_openSmile, outputs=flat_openSmile)\n",
    "model_openSmile.summary()"
   ]
  },
  {
   "attachments": {},
   "cell_type": "markdown",
   "metadata": {},
   "source": [
    "# Multi Modal (BoVW OpenFace and BoAW OpenSmile)"
   ]
  },
  {
   "cell_type": "code",
   "execution_count": 9,
   "metadata": {},
   "outputs": [
    {
     "name": "stdout",
     "output_type": "stream",
     "text": [
      "Model: \"model_2\"\n",
      "__________________________________________________________________________________________________\n",
      " Layer (type)                   Output Shape         Param #     Connected to                     \n",
      "==================================================================================================\n",
      " input_1 (InputLayer)           [(None, 36277, 100)  0           []                               \n",
      "                                ]                                                                 \n",
      "                                                                                                  \n",
      " input_2 (InputLayer)           [(None, 36277, 100)  0           []                               \n",
      "                                ]                                                                 \n",
      "                                                                                                  \n",
      " conv1d (Conv1D)                (None, 36277, 100)   30100       ['input_1[0][0]']                \n",
      "                                                                                                  \n",
      " conv1d_4 (Conv1D)              (None, 36277, 100)   30100       ['input_2[0][0]']                \n",
      "                                                                                                  \n",
      " batch_normalization (BatchNorm  (None, 36277, 100)  400         ['conv1d[0][0]']                 \n",
      " alization)                                                                                       \n",
      "                                                                                                  \n",
      " batch_normalization_4 (BatchNo  (None, 36277, 100)  400         ['conv1d_4[0][0]']               \n",
      " rmalization)                                                                                     \n",
      "                                                                                                  \n",
      " dropout (Dropout)              (None, 36277, 100)   0           ['batch_normalization[0][0]']    \n",
      "                                                                                                  \n",
      " dropout_4 (Dropout)            (None, 36277, 100)   0           ['batch_normalization_4[0][0]']  \n",
      "                                                                                                  \n",
      " max_pooling1d (MaxPooling1D)   (None, 7256, 100)    0           ['dropout[0][0]']                \n",
      "                                                                                                  \n",
      " max_pooling1d_4 (MaxPooling1D)  (None, 7256, 100)   0           ['dropout_4[0][0]']              \n",
      "                                                                                                  \n",
      " conv1d_1 (Conv1D)              (None, 7256, 64)     19264       ['max_pooling1d[0][0]']          \n",
      "                                                                                                  \n",
      " conv1d_5 (Conv1D)              (None, 7256, 64)     19264       ['max_pooling1d_4[0][0]']        \n",
      "                                                                                                  \n",
      " batch_normalization_1 (BatchNo  (None, 7256, 64)    256         ['conv1d_1[0][0]']               \n",
      " rmalization)                                                                                     \n",
      "                                                                                                  \n",
      " batch_normalization_5 (BatchNo  (None, 7256, 64)    256         ['conv1d_5[0][0]']               \n",
      " rmalization)                                                                                     \n",
      "                                                                                                  \n",
      " dropout_1 (Dropout)            (None, 7256, 64)     0           ['batch_normalization_1[0][0]']  \n",
      "                                                                                                  \n",
      " dropout_5 (Dropout)            (None, 7256, 64)     0           ['batch_normalization_5[0][0]']  \n",
      "                                                                                                  \n",
      " max_pooling1d_1 (MaxPooling1D)  (None, 1452, 64)    0           ['dropout_1[0][0]']              \n",
      "                                                                                                  \n",
      " max_pooling1d_5 (MaxPooling1D)  (None, 1452, 64)    0           ['dropout_5[0][0]']              \n",
      "                                                                                                  \n",
      " conv1d_2 (Conv1D)              (None, 1452, 32)     6176        ['max_pooling1d_1[0][0]']        \n",
      "                                                                                                  \n",
      " conv1d_6 (Conv1D)              (None, 1452, 32)     6176        ['max_pooling1d_5[0][0]']        \n",
      "                                                                                                  \n",
      " batch_normalization_2 (BatchNo  (None, 1452, 32)    128         ['conv1d_2[0][0]']               \n",
      " rmalization)                                                                                     \n",
      "                                                                                                  \n",
      " batch_normalization_6 (BatchNo  (None, 1452, 32)    128         ['conv1d_6[0][0]']               \n",
      " rmalization)                                                                                     \n",
      "                                                                                                  \n",
      " dropout_2 (Dropout)            (None, 1452, 32)     0           ['batch_normalization_2[0][0]']  \n",
      "                                                                                                  \n",
      " dropout_6 (Dropout)            (None, 1452, 32)     0           ['batch_normalization_6[0][0]']  \n",
      "                                                                                                  \n",
      " max_pooling1d_2 (MaxPooling1D)  (None, 291, 32)     0           ['dropout_2[0][0]']              \n",
      "                                                                                                  \n",
      " max_pooling1d_6 (MaxPooling1D)  (None, 291, 32)     0           ['dropout_6[0][0]']              \n",
      "                                                                                                  \n",
      " conv1d_3 (Conv1D)              (None, 291, 16)      1552        ['max_pooling1d_2[0][0]']        \n",
      "                                                                                                  \n",
      " conv1d_7 (Conv1D)              (None, 291, 16)      1552        ['max_pooling1d_6[0][0]']        \n",
      "                                                                                                  \n",
      " batch_normalization_3 (BatchNo  (None, 291, 16)     64          ['conv1d_3[0][0]']               \n",
      " rmalization)                                                                                     \n",
      "                                                                                                  \n",
      " batch_normalization_7 (BatchNo  (None, 291, 16)     64          ['conv1d_7[0][0]']               \n",
      " rmalization)                                                                                     \n",
      "                                                                                                  \n",
      " dropout_3 (Dropout)            (None, 291, 16)      0           ['batch_normalization_3[0][0]']  \n",
      "                                                                                                  \n",
      " dropout_7 (Dropout)            (None, 291, 16)      0           ['batch_normalization_7[0][0]']  \n",
      "                                                                                                  \n",
      " max_pooling1d_3 (MaxPooling1D)  (None, 59, 16)      0           ['dropout_3[0][0]']              \n",
      "                                                                                                  \n",
      " max_pooling1d_7 (MaxPooling1D)  (None, 59, 16)      0           ['dropout_7[0][0]']              \n",
      "                                                                                                  \n",
      " concatenate (Concatenate)      (None, 118, 16)      0           ['max_pooling1d_3[0][0]',        \n",
      "                                                                  'max_pooling1d_7[0][0]']        \n",
      "                                                                                                  \n",
      " lstm (LSTM)                    (None, 118, 16)      2112        ['concatenate[0][0]']            \n",
      "                                                                                                  \n",
      " batch_normalization_8 (BatchNo  (None, 118, 16)     64          ['lstm[0][0]']                   \n",
      " rmalization)                                                                                     \n",
      "                                                                                                  \n",
      " dropout_8 (Dropout)            (None, 118, 16)      0           ['batch_normalization_8[0][0]']  \n",
      "                                                                                                  \n",
      " max_pooling1d_8 (MaxPooling1D)  (None, 24, 16)      0           ['dropout_8[0][0]']              \n",
      "                                                                                                  \n",
      " lstm_1 (LSTM)                  (None, 24, 1)        72          ['max_pooling1d_8[0][0]']        \n",
      "                                                                                                  \n",
      " batch_normalization_9 (BatchNo  (None, 24, 1)       4           ['lstm_1[0][0]']                 \n",
      " rmalization)                                                                                     \n",
      "                                                                                                  \n",
      " dropout_9 (Dropout)            (None, 24, 1)        0           ['batch_normalization_9[0][0]']  \n",
      "                                                                                                  \n",
      " dense (Dense)                  (None, 24, 1)        2           ['dropout_9[0][0]']              \n",
      "                                                                                                  \n",
      " dropout_10 (Dropout)           (None, 24, 1)        0           ['dense[0][0]']                  \n",
      "                                                                                                  \n",
      " flatten (Flatten)              (None, 24)           0           ['dropout_10[0][0]']             \n",
      "                                                                                                  \n",
      " dense_1 (Dense)                (None, 1)            25          ['flatten[0][0]']                \n",
      "                                                                                                  \n",
      "==================================================================================================\n",
      "Total params: 118,159\n",
      "Trainable params: 117,277\n",
      "Non-trainable params: 882\n",
      "__________________________________________________________________________________________________\n"
     ]
    }
   ],
   "source": [
    "x = concatenate([flat_openFace, flat_openSmile], axis=1)\n",
    "\n",
    "l1 = LSTM(16, return_sequences=True)(x)\n",
    "bn9 = BatchNormalization()(l1)\n",
    "d9 = Dropout(rate=0.5)(bn9)\n",
    "mp9 = MaxPooling1D(pool_size=(5), padding='same')(d9)\n",
    "\n",
    "l2 = LSTM(1, return_sequences=True)(mp9)\n",
    "bn10 = BatchNormalization()(l2)\n",
    "d10 = Dropout(rate=0.5)(bn10)\n",
    "\n",
    "den1 = Dense(1, kernel_regularizer=regularizers.L1L2(l1=1e-5, l2=1e-4), \n",
    "                    bias_regularizer=regularizers.L2(1e-4), \n",
    "                    activity_regularizer=regularizers.L2(1e-5), \n",
    "                    activation='relu')(d10)\n",
    "d11 = Dropout(rate=0.2)(den1)\n",
    "\n",
    "f1 = Flatten()(d11)\n",
    "output = Dense(1, kernel_regularizer=regularizers.L1L2(l1=1e-5, l2=1e-4), \n",
    "                    bias_regularizer=regularizers.L2(1e-4), \n",
    "                    activity_regularizer=regularizers.L2(1e-5), \n",
    "                    activation='relu')(f1)\n",
    "\n",
    "final_model = Model(inputs=[inputs_openFace, inputs_openSmile], outputs=[output])\n",
    "\n",
    "final_model.compile(optimizer=tf.keras.optimizers.Adam(learning_rate=0.00001), loss = 'mse', metrics= [tf.keras.metrics.RootMeanSquaredError()])\n",
    "final_model.summary()"
   ]
  },
  {
   "attachments": {},
   "cell_type": "markdown",
   "metadata": {},
   "source": [
    "# Training and Validation Dataset"
   ]
  },
  {
   "cell_type": "code",
   "execution_count": 11,
   "metadata": {},
   "outputs": [
    {
     "name": "stdout",
     "output_type": "stream",
     "text": [
      "Epoch 1/80\n"
     ]
    }
   ],
   "source": [
    "batch_size = 32\n",
    "\n",
    "checkpoint_filepath = '/Users/suyashsingh/Documents/Projects/Depression_Analysis/checkpoints/multimodal_regression/weights-improvement-multimodal-hdf5-{epoch:02d}-{val_root_mean_squared_error:.2f}.hdf5'\n",
    "\n",
    "model_checkpoint_callback = tf.keras.callbacks.ModelCheckpoint(\n",
    "    filepath=checkpoint_filepath,\n",
    "    monitor='val_root_mean_squared_error', \n",
    "    save_best_only=True,\n",
    "    save_weights_only=True,\n",
    "    mode='min'\n",
    "    )\n",
    "\n",
    "reduce_lr_callback = tf.keras.callbacks.ReduceLROnPlateau(monitor='val_root_mean_squared_error', factor=0.2,\n",
    "                              patience=20, min_lr=0.0001)\n",
    "\n",
    "final_model.fit(x=[x_train_bovw, x_train_boaw],\n",
    "                y=y_train_bovw,\n",
    "                batch_size=batch_size,\n",
    "                epochs=80,\n",
    "                callbacks=[model_checkpoint_callback, reduce_lr_callback],\n",
    "                validation_data=[[x_dev_bovw, x_dev_boaw], y_dev_bovw],\n",
    "                shuffle=True,\n",
    "                verbose=1\n",
    "                )"
   ]
  },
  {
   "cell_type": "code",
   "execution_count": null,
   "metadata": {},
   "outputs": [],
   "source": [
    "# from keras.models import load_model\n",
    "# model = load_model('/Users/nitanshjain/Documents/Projects/Depression_Analysis/checkpoints/multimodal_regression/')\n"
   ]
  },
  {
   "cell_type": "code",
   "execution_count": null,
   "metadata": {},
   "outputs": [],
   "source": [
    "x_test_bovw = np.loadtxt('/Users/suyashsingh/Documents/Projects/Depression_Analysis/data/BoVW/x_test_BoVW_openFace_210_Pose_Gaze_AUs.gz', delimiter=',').reshape(56, 16869, 100)\n",
    "y_test_bovw = np.loadtxt('/Users/suyashsingh/Documents/Projects/Depression_Analysis/data/BoVW/Regression/y_test_BoVW_openFace_210_Pose_Gaze_AUs.gz', delimiter=',')\n",
    "\n",
    "x_test_bovw_input_shape = x_test_bovw.shape\n",
    "y_test_bovw_input_shape = y_test_bovw.shape\n",
    "\n",
    "zeros_bovw = np.zeros((56, x_dev_bovw_input_shape[1]-x_test_bovw_input_shape[1], x_test_bovw_input_shape[2]))\n",
    "\n",
    "# adding rows with value 0 to make the dimensions of x_test_bovw and x_dev equal\n",
    "x_test_bovw = np.concatenate((x_test_bovw, zeros_bovw), axis=1)\n",
    "\n",
    "x_test_bovw_input_shape = x_test_bovw.shape\n",
    "\n",
    "print(x_test_bovw_input_shape)\n",
    "print(y_test_bovw_input_shape)"
   ]
  },
  {
   "cell_type": "code",
   "execution_count": null,
   "metadata": {},
   "outputs": [],
   "source": [
    "x_test_boaw = np.loadtxt('/Users/suyashsingh/Documents/Projects/Depression_Analysis/data/BoAW/x_test_BoAW_openSMILE_230_MFCC.gz', delimiter=',').reshape(56, 16674, 100)\n",
    "y_test_boaw = np.loadtxt('/Users/suyashsingh/Documents/Projects/Depression_Analysis/data/BoAW/Regression/y_test_BoAW_openSMILE_230_MFCC.gz', delimiter=',')\n",
    "\n",
    "x_test_boaw_input_shape = x_test_boaw.shape\n",
    "y_test_boaw_input_shape = y_test_boaw.shape\n",
    "\n",
    "zeros_boaw = np.zeros((56, x_dev_bovw_input_shape[1]-x_test_boaw_input_shape[1], x_test_boaw_input_shape[2]))\n",
    "\n",
    "# adding rows with value 0 to make the dimensions of x_test_boaw and x_dev equal\n",
    "x_test_boaw = np.concatenate((x_test_boaw, zeros_boaw), axis=1)\n",
    "\n",
    "x_test_boaw_input_shape = x_test_boaw.shape\n",
    "\n",
    "print(x_test_boaw_input_shape)\n",
    "print(y_test_boaw_input_shape)"
   ]
  },
  {
   "cell_type": "code",
   "execution_count": null,
   "metadata": {},
   "outputs": [],
   "source": [
    "score = final_model.evaluate(x=[x_test_bovw, x_test_boaw], y=y_test_bovw, verbose=0)\n",
    "print('Test loss:', score[0])\n",
    "print('Test accuracy:', score[1])"
   ]
  },
  {
   "cell_type": "code",
   "execution_count": null,
   "metadata": {},
   "outputs": [],
   "source": [
    "y_pred = final_model.predict(x=[x_test_bovw, x_test_boaw])\n",
    "print(y_pred)\n",
    "print(y_test_bovw)"
   ]
  },
  {
   "cell_type": "code",
   "execution_count": null,
   "metadata": {},
   "outputs": [],
   "source": []
  }
 ],
 "metadata": {
  "kernelspec": {
   "display_name": "Depression_Analysis-DHAu4qlc",
   "language": "python",
   "name": "python3"
  },
  "language_info": {
   "codemirror_mode": {
    "name": "ipython",
    "version": 3
   },
   "file_extension": ".py",
   "mimetype": "text/x-python",
   "name": "python",
   "nbconvert_exporter": "python",
   "pygments_lexer": "ipython3",
   "version": "3.10.4"
  },
  "orig_nbformat": 4,
  "vscode": {
   "interpreter": {
    "hash": "f4c57052e65c6ff5ccf4616eec21ba325df014e02c303eca8dc1b3f80d62bdca"
   }
  }
 },
 "nbformat": 4,
 "nbformat_minor": 2
}
